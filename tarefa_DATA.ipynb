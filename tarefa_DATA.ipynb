{
 "cells": [
  {
   "cell_type": "markdown",
   "metadata": {},
   "source": [
    "# Tarefa da aula 2: Visualização de Dados\n",
    "Extracurricular DATA <br>\n",
    "Docente: Aimê (@itsaime)"
   ]
  },
  {
   "cell_type": "markdown",
   "metadata": {},
   "source": [
    "Tarefas:\n",
    "\n",
    "Você quer prever o preço dos diamantes usando uma regressão linear. Para isso, será preciso antes analisar o dataset.\n",
    "\n",
    "- Fazer import e arrumar índices, se necessário\n",
    "- Verificar tipo de dados\n",
    "- Fazer descrição das variáveis\n",
    "- Limpar os dados\n",
    "    - Verificar nulos, linhas duplicadas e outliers\n",
    "    - Fazer a manipulação dos dados\n",
    "- Análise \n",
    "    - Univariada\n",
    "    - Bivariada\n",
    "    - Multivariada\n",
    "\n",
    "Perguntas:\n",
    "- Quais variáveis foram escolhidas para a regressão?\n",
    "- Alguma variável foi redundante?\n",
    "- Alguma variável foi excluída?\n",
    "\n",
    "Extra:\n",
    "- Alguma variável precisou passar por um processo de encoding?"
   ]
  },
  {
   "cell_type": "code",
   "execution_count": 33,
   "metadata": {},
   "outputs": [],
   "source": [
    "import pandas as pd\n",
    "import numpy as np\n",
    "\n",
    "df = pd.read_csv('diamonds.csv')"
   ]
  },
  {
   "cell_type": "code",
   "execution_count": 34,
   "metadata": {},
   "outputs": [
    {
     "name": "stdout",
     "output_type": "stream",
     "text": [
      "<class 'pandas.core.frame.DataFrame'>\n",
      "RangeIndex: 53940 entries, 0 to 53939\n",
      "Data columns (total 13 columns):\n",
      " #   Column      Non-Null Count  Dtype  \n",
      "---  ------      --------------  -----  \n",
      " 0   Unnamed: 0  53940 non-null  int64  \n",
      " 1   carat       53940 non-null  float64\n",
      " 2   cut         53940 non-null  object \n",
      " 3   color       53940 non-null  object \n",
      " 4   clarity     53940 non-null  object \n",
      " 5   depth       53940 non-null  float64\n",
      " 6   table       53940 non-null  float64\n",
      " 7   price       53940 non-null  int64  \n",
      " 8   x           53940 non-null  float64\n",
      " 9   y           53940 non-null  float64\n",
      " 10  z           53940 non-null  float64\n",
      " 11  date        50707 non-null  object \n",
      " 12  country     53690 non-null  object \n",
      "dtypes: float64(6), int64(2), object(5)\n",
      "memory usage: 5.4+ MB\n"
     ]
    }
   ],
   "source": [
    "df.info()"
   ]
  },
  {
   "cell_type": "code",
   "execution_count": 37,
   "metadata": {},
   "outputs": [],
   "source": [
    "df.set_index('Unnamed: 0', inplace=True)"
   ]
  },
  {
   "cell_type": "code",
   "execution_count": 38,
   "metadata": {},
   "outputs": [],
   "source": [
    "for i in df.columns[:-2]:\n",
    "    df.loc[\n",
    "        df.sample(frac=.05).index,\n",
    "        i\n",
    "    ] = np.nan\n"
   ]
  },
  {
   "cell_type": "code",
   "execution_count": 39,
   "metadata": {},
   "outputs": [
    {
     "name": "stdout",
     "output_type": "stream",
     "text": [
      "<class 'pandas.core.frame.DataFrame'>\n",
      "Int64Index: 53940 entries, 1 to 53940\n",
      "Data columns (total 12 columns):\n",
      " #   Column   Non-Null Count  Dtype  \n",
      "---  ------   --------------  -----  \n",
      " 0   carat    51243 non-null  float64\n",
      " 1   cut      51243 non-null  object \n",
      " 2   color    51243 non-null  object \n",
      " 3   clarity  51243 non-null  object \n",
      " 4   depth    51243 non-null  float64\n",
      " 5   table    51243 non-null  float64\n",
      " 6   price    51243 non-null  float64\n",
      " 7   x        51243 non-null  float64\n",
      " 8   y        51243 non-null  float64\n",
      " 9   z        51243 non-null  float64\n",
      " 10  date     50707 non-null  object \n",
      " 11  country  53690 non-null  object \n",
      "dtypes: float64(7), object(5)\n",
      "memory usage: 7.4+ MB\n"
     ]
    }
   ],
   "source": [
    "df.info()"
   ]
  },
  {
   "cell_type": "code",
   "execution_count": 40,
   "metadata": {},
   "outputs": [],
   "source": [
    "df.to_csv('diamonds_2.csv')"
   ]
  },
  {
   "cell_type": "code",
   "execution_count": 41,
   "metadata": {},
   "outputs": [],
   "source": [
    "df2 = pd.read_csv('diamonds_2.csv')"
   ]
  },
  {
   "cell_type": "code",
   "execution_count": 43,
   "metadata": {},
   "outputs": [
    {
     "name": "stdout",
     "output_type": "stream",
     "text": [
      "<class 'pandas.core.frame.DataFrame'>\n",
      "RangeIndex: 53940 entries, 0 to 53939\n",
      "Data columns (total 13 columns):\n",
      " #   Column      Non-Null Count  Dtype  \n",
      "---  ------      --------------  -----  \n",
      " 0   Unnamed: 0  53940 non-null  int64  \n",
      " 1   carat       51243 non-null  float64\n",
      " 2   cut         51243 non-null  object \n",
      " 3   color       51243 non-null  object \n",
      " 4   clarity     51243 non-null  object \n",
      " 5   depth       51243 non-null  float64\n",
      " 6   table       51243 non-null  float64\n",
      " 7   price       51243 non-null  float64\n",
      " 8   x           51243 non-null  float64\n",
      " 9   y           51243 non-null  float64\n",
      " 10  z           51243 non-null  float64\n",
      " 11  date        50707 non-null  object \n",
      " 12  country     53690 non-null  object \n",
      "dtypes: float64(7), int64(1), object(5)\n",
      "memory usage: 5.4+ MB\n"
     ]
    }
   ],
   "source": [
    "df2.info()"
   ]
  }
 ],
 "metadata": {
  "kernelspec": {
   "display_name": "Python 3.10.5 64-bit",
   "language": "python",
   "name": "python3"
  },
  "language_info": {
   "codemirror_mode": {
    "name": "ipython",
    "version": 3
   },
   "file_extension": ".py",
   "mimetype": "text/x-python",
   "name": "python",
   "nbconvert_exporter": "python",
   "pygments_lexer": "ipython3",
   "version": "3.10.5"
  },
  "orig_nbformat": 4,
  "vscode": {
   "interpreter": {
    "hash": "16afb2a661c3f50ab9fc0cb91aedc651618cc26053c7f8065bbc85fcac6f23ab"
   }
  }
 },
 "nbformat": 4,
 "nbformat_minor": 2
}
